{
 "cells": [
  {
   "cell_type": "code",
   "execution_count": 1,
   "id": "b3ba46e8",
   "metadata": {},
   "outputs": [
    {
     "name": "stdout",
     "output_type": "stream",
     "text": [
      "Requirement already satisfied: requests in c:\\conda_envs\\ml\\lib\\site-packages (2.32.4)\n",
      "Requirement already satisfied: charset_normalizer<4,>=2 in c:\\conda_envs\\ml\\lib\\site-packages (from requests) (3.4.2)\n",
      "Requirement already satisfied: idna<4,>=2.5 in c:\\conda_envs\\ml\\lib\\site-packages (from requests) (3.10)\n",
      "Requirement already satisfied: urllib3<3,>=1.21.1 in c:\\conda_envs\\ml\\lib\\site-packages (from requests) (2.4.0)\n",
      "Requirement already satisfied: certifi>=2017.4.17 in c:\\conda_envs\\ml\\lib\\site-packages (from requests) (2025.4.26)\n",
      "Note: you may need to restart the kernel to use updated packages.\n",
      "Collecting dotenv\n",
      "  Downloading dotenv-0.9.9-py2.py3-none-any.whl.metadata (279 bytes)\n",
      "Requirement already satisfied: python-dotenv in c:\\conda_envs\\ml\\lib\\site-packages (from dotenv) (1.1.0)\n",
      "Downloading dotenv-0.9.9-py2.py3-none-any.whl (1.9 kB)\n",
      "Installing collected packages: dotenv\n",
      "Successfully installed dotenv-0.9.9\n",
      "Note: you may need to restart the kernel to use updated packages.\n"
     ]
    }
   ],
   "source": [
    "%pip install requests\n",
    "%pip install dotenv"
   ]
  },
  {
   "cell_type": "code",
   "execution_count": 20,
   "id": "de2f0b1e",
   "metadata": {},
   "outputs": [],
   "source": [
    "from dotenv import load_dotenv\n",
    "import requests\n",
    "import os\n",
    "load_dotenv() \n",
    "API_KEY = os.getenv(\"UMLS\")\n"
   ]
  },
  {
   "cell_type": "code",
   "execution_count": 33,
   "id": "a0187cf7",
   "metadata": {},
   "outputs": [],
   "source": [
    "def get_tgt(API_KEY):\n",
    "    url = \"https://utslogin.nlm.nih.gov/cas/v1/api-key\"\n",
    "    params = {'apikey': API_KEY}\n",
    "    response = requests.post(url, data=params)\n",
    "    tgt_url = response.headers['location']\n",
    "    return tgt_url"
   ]
  },
  {
   "cell_type": "code",
   "execution_count": 34,
   "id": "9137b729",
   "metadata": {},
   "outputs": [],
   "source": [
    "def get_st(tgt):\n",
    "    response = requests.post(tgt, data={'service': 'http://umlsks.nlm.nih.gov'})\n",
    "    return response.text"
   ]
  },
  {
   "cell_type": "code",
   "execution_count": 36,
   "id": "fa0339ae",
   "metadata": {},
   "outputs": [],
   "source": [
    "def search_umls(symptom, st):\n",
    "    base_url = \"https://uts-ws.nlm.nih.gov/rest/search/current\"\n",
    "    params = {\n",
    "        \"string\": symptom,\n",
    "        \"ticket\": st\n",
    "    }\n",
    "    response = requests.get(base_url, params=params)\n",
    "    data = response.json()\n",
    "    results = data['result']['results']\n",
    "    if results:\n",
    "        return results[0]['ui']  # The CUI\n",
    "    return None"
   ]
  },
  {
   "cell_type": "code",
   "execution_count": 37,
   "id": "96621cd5",
   "metadata": {},
   "outputs": [],
   "source": [
    "def get_related_diseases(cui, st):\n",
    "    url = f\"https://uts-ws.nlm.nih.gov/rest/content/current/CUI/{cui}/relations\"\n",
    "    params = {\"ticket\": st}\n",
    "    response = requests.get(url, params=params)\n",
    "    data = response.json()\n",
    "    diseases = []\n",
    "    for rel in data.get('result', []):\n",
    "        if \"may_be_diagnosed_by\" in rel.get(\"relationLabel\", \"\").lower() or \\\n",
    "           \"associated_with\" in rel.get(\"relationLabel\", \"\").lower():\n",
    "            diseases.append(rel['relatedIdName'])\n",
    "    return diseases"
   ]
  },
  {
   "cell_type": "code",
   "execution_count": 40,
   "id": "c99c3b93",
   "metadata": {},
   "outputs": [],
   "source": [
    "def search_symptoms_from_umls(st, page=1):\n",
    "    url = \"https://uts-ws.nlm.nih.gov/rest/search/current\"\n",
    "    params = {\n",
    "        \"ticket\": st,\n",
    "        \"pageNumber\": page,\n",
    "        \"string\": \"headache\",  # Use a generic seed term\n",
    "        \"returnIdType\": \"concept\"\n",
    "    }\n",
    "\n",
    "    response = requests.get(url, params=params)\n",
    "    print(f\"🔎 UMLS Search Response Status: {response.status_code}\")\n",
    "\n",
    "    try:\n",
    "        data = response.json()\n",
    "        print(\"📥 Raw response (truncated):\", str(data)[:200])  # Print first 200 chars\n",
    "        results = data[\"result\"][\"results\"]\n",
    "        return [r[\"name\"] for r in results if r[\"ui\"] != \"NONE\"]\n",
    "    except KeyError:\n",
    "        print(\"result' not in response. Full data:\", data)\n",
    "        return []"
   ]
  },
  {
   "cell_type": "code",
   "execution_count": 10,
   "id": "d4a8196e",
   "metadata": {},
   "outputs": [
    {
     "name": "stdout",
     "output_type": "stream",
     "text": [
      "Collecting numpy==1.26.4\n",
      "  Downloading numpy-1.26.4-cp312-cp312-win_amd64.whl.metadata (61 kB)\n",
      "Downloading numpy-1.26.4-cp312-cp312-win_amd64.whl (15.5 MB)\n",
      "   ---------------------------------------- 0.0/15.5 MB ? eta -:--:--\n",
      "    --------------------------------------- 0.3/15.5 MB ? eta -:--:--\n",
      "   - -------------------------------------- 0.5/15.5 MB 1.7 MB/s eta 0:00:09\n",
      "   -- ------------------------------------- 1.0/15.5 MB 1.9 MB/s eta 0:00:08\n",
      "   ---- ----------------------------------- 1.6/15.5 MB 2.2 MB/s eta 0:00:07\n",
      "   ------ --------------------------------- 2.4/15.5 MB 2.5 MB/s eta 0:00:06\n",
      "   -------- ------------------------------- 3.1/15.5 MB 2.7 MB/s eta 0:00:05\n",
      "   ---------- ----------------------------- 3.9/15.5 MB 2.9 MB/s eta 0:00:04\n",
      "   ------------ --------------------------- 5.0/15.5 MB 3.1 MB/s eta 0:00:04\n",
      "   -------------- ------------------------- 5.8/15.5 MB 3.2 MB/s eta 0:00:04\n",
      "   ----------------- ---------------------- 6.8/15.5 MB 3.4 MB/s eta 0:00:03\n",
      "   -------------------- ------------------- 7.9/15.5 MB 3.6 MB/s eta 0:00:03\n",
      "   ------------------------ --------------- 9.4/15.5 MB 3.9 MB/s eta 0:00:02\n",
      "   ---------------------------- ----------- 11.0/15.5 MB 4.2 MB/s eta 0:00:02\n",
      "   -------------------------------- ------- 12.6/15.5 MB 4.4 MB/s eta 0:00:01\n",
      "   ----------------------------------- ---- 13.6/15.5 MB 4.5 MB/s eta 0:00:01\n",
      "   -------------------------------------- - 14.9/15.5 MB 4.6 MB/s eta 0:00:01\n",
      "   ---------------------------------------- 15.5/15.5 MB 4.5 MB/s eta 0:00:00\n",
      "Installing collected packages: numpy\n",
      "  Attempting uninstall: numpy\n",
      "    Found existing installation: numpy 2.2.6\n",
      "    Uninstalling numpy-2.2.6:\n",
      "      Successfully uninstalled numpy-2.2.6\n",
      "Successfully installed numpy-1.26.4\n",
      "Note: you may need to restart the kernel to use updated packages.\n"
     ]
    },
    {
     "name": "stderr",
     "output_type": "stream",
     "text": [
      "  WARNING: Failed to remove contents in a temporary directory 'D:\\Anaconda\\Lib\\site-packages\\~umpy.libs'.\n",
      "  You can safely remove it manually.\n",
      "  WARNING: Failed to remove contents in a temporary directory 'D:\\Anaconda\\Lib\\site-packages\\~umpy'.\n",
      "  You can safely remove it manually.\n",
      "ERROR: pip's dependency resolver does not currently take into account all the packages that are installed. This behaviour is the source of the following dependency conflicts.\n",
      "gensim 4.3.3 requires scipy<1.14.0,>=1.7.0, but you have scipy 1.15.3 which is incompatible.\n",
      "streamlit 1.37.1 requires pillow<11,>=7.1.0, but you have pillow 11.2.1 which is incompatible.\n"
     ]
    }
   ],
   "source": [
    "%pip install numpy==1.26.4 --force-reinstall --no-cache-dir"
   ]
  },
  {
   "cell_type": "code",
   "execution_count": 8,
   "id": "b5734949",
   "metadata": {},
   "outputs": [
    {
     "name": "stdout",
     "output_type": "stream",
     "text": [
      "2.1.3\n"
     ]
    }
   ],
   "source": [
    "import numpy\n",
    "print(numpy.__version__)  "
   ]
  },
  {
   "cell_type": "code",
   "execution_count": 10,
   "id": "390be6bb",
   "metadata": {},
   "outputs": [
    {
     "name": "stdout",
     "output_type": "stream",
     "text": [
      "Found existing installation: pandas 2.3.0\n",
      "Uninstalling pandas-2.3.0:\n",
      "  Successfully uninstalled pandas-2.3.0\n",
      "Note: you may need to restart the kernel to use updated packages.\n"
     ]
    },
    {
     "name": "stderr",
     "output_type": "stream",
     "text": [
      "WARNING: Failed to remove contents in a temporary directory 'D:\\Anaconda\\Lib\\site-packages\\~andas.libs'.\n",
      "You can safely remove it manually.\n",
      "WARNING: Failed to remove contents in a temporary directory 'D:\\Anaconda\\Lib\\site-packages\\~andas'.\n",
      "You can safely remove it manually.\n"
     ]
    },
    {
     "name": "stdout",
     "output_type": "stream",
     "text": [
      "Collecting pandas\n",
      "  Using cached pandas-2.3.0-cp312-cp312-win_amd64.whl.metadata (19 kB)\n",
      "Requirement already satisfied: numpy>=1.26.0 in d:\\anaconda\\lib\\site-packages (from pandas) (1.26.4)\n",
      "Requirement already satisfied: python-dateutil>=2.8.2 in d:\\anaconda\\lib\\site-packages (from pandas) (2.9.0.post0)\n",
      "Requirement already satisfied: pytz>=2020.1 in d:\\anaconda\\lib\\site-packages (from pandas) (2024.1)\n",
      "Requirement already satisfied: tzdata>=2022.7 in d:\\anaconda\\lib\\site-packages (from pandas) (2023.3)\n",
      "Requirement already satisfied: six>=1.5 in d:\\anaconda\\lib\\site-packages (from python-dateutil>=2.8.2->pandas) (1.16.0)\n",
      "Using cached pandas-2.3.0-cp312-cp312-win_amd64.whl (11.0 MB)\n",
      "Installing collected packages: pandas\n",
      "Successfully installed pandas-2.3.0\n",
      "Note: you may need to restart the kernel to use updated packages.\n"
     ]
    },
    {
     "name": "stderr",
     "output_type": "stream",
     "text": [
      "ERROR: pip's dependency resolver does not currently take into account all the packages that are installed. This behaviour is the source of the following dependency conflicts.\n",
      "streamlit 1.37.1 requires pillow<11,>=7.1.0, but you have pillow 11.2.1 which is incompatible.\n"
     ]
    }
   ],
   "source": [
    "%pip uninstall pandas -y\n",
    "%pip install pandas"
   ]
  },
  {
   "cell_type": "code",
   "execution_count": 9,
   "id": "89faceae",
   "metadata": {},
   "outputs": [],
   "source": [
    "import pandas as pd"
   ]
  },
  {
   "cell_type": "code",
   "execution_count": 41,
   "id": "2879e20b",
   "metadata": {},
   "outputs": [
    {
     "name": "stdout",
     "output_type": "stream",
     "text": [
      "Fetching symptoms page 1...\n",
      "🔎 UMLS Search Response Status: 200\n",
      "📥 Raw response (truncated): {'pageSize': 25, 'pageNumber': 1, 'result': {'classType': 'searchResults', 'results': [{'ui': 'C0018681', 'rootSource': 'MTH', 'uri': 'https://uts-ws.nlm.nih.gov/rest/content/2025AA/CUI/C0018681', 'na\n",
      "Fetching symptoms page 2...\n",
      "🔎 UMLS Search Response Status: 401\n",
      "📥 Raw response (truncated): {'name': 'UnauthorizedError', 'status': 401, 'message': '401 - Invalid ST - Documentation: https://documentation.uts.nlm.nih.gov/rest/authentication.html'}\n",
      "result' not in response. Full data: {'name': 'UnauthorizedError', 'status': 401, 'message': '401 - Invalid ST - Documentation: https://documentation.uts.nlm.nih.gov/rest/authentication.html'}\n",
      "Fetching symptoms page 3...\n",
      "🔎 UMLS Search Response Status: 401\n",
      "📥 Raw response (truncated): {'name': 'UnauthorizedError', 'status': 401, 'message': '401 - Invalid ST - Documentation: https://documentation.uts.nlm.nih.gov/rest/authentication.html'}\n",
      "result' not in response. Full data: {'name': 'UnauthorizedError', 'status': 401, 'message': '401 - Invalid ST - Documentation: https://documentation.uts.nlm.nih.gov/rest/authentication.html'}\n",
      "Total unique symptoms fetched: 25\n",
      "\n",
      "Processing symptom: Frontal headache\n",
      "Service Ticket (ST): ST-2685-24fr9b1zsfmbq7mow7-cas\n",
      "CUI: C0239886\n",
      "🩺 Related diseases: []\n",
      "\n",
      "Processing symptom: rebound headache with intractable headache\n",
      "Service Ticket (ST): ST-9529-5791248qmbq7mrhi-cas\n",
      "CUI: C4027863\n",
      "🩺 Related diseases: []\n",
      "\n",
      "Processing symptom: Muscular headache\n",
      "Service Ticket (ST): ST-9533-5791248qmbq7mu1l-cas\n",
      "CUI: C0393736\n",
      "🩺 Related diseases: []\n",
      "\n",
      "Processing symptom: Frequent headache\n",
      "Service Ticket (ST): ST-13513-24fr9b1zsgmbq7mwxb-cas\n",
      "CUI: C0948396\n",
      "🩺 Related diseases: []\n",
      "\n",
      "Processing symptom: Throbbing Headache\n",
      "Service Ticket (ST): ST-6828-5791248pmbq7mzmr-cas\n",
      "CUI: C0423618\n",
      "🩺 Related diseases: []\n",
      "\n",
      "Processing symptom: Occipital headache\n",
      "Service Ticket (ST): ST-13519-24fr9b1zsgmbq7n2cj-cas\n",
      "CUI: C0231613\n",
      "🩺 Related diseases: []\n",
      "\n",
      "Processing symptom: Primary Stabbing Headache\n",
      "Service Ticket (ST): ST-9542-5791248qmbq7n54t-cas\n",
      "CUI: C0751191\n",
      "🩺 Related diseases: []\n",
      "\n",
      "Processing symptom: Post-Lumbar Puncture Headache\n",
      "Service Ticket (ST): ST-6834-5791248pmbq7n7mq-cas\n",
      "CUI: C0270697\n",
      "🩺 Related diseases: []\n",
      "\n",
      "Processing symptom: Intermittent headache\n",
      "Service Ticket (ST): ST-6836-5791248pmbq7na7e-cas\n",
      "CUI: C1168188\n",
      "🩺 Related diseases: []\n",
      "\n",
      "Processing symptom: Headache Disorders\n",
      "Service Ticket (ST): ST-13529-24fr9b1zsgmbq7ncoj-cas\n",
      "CUI: C0393735\n",
      "🩺 Related diseases: []\n",
      "\n",
      "Processing symptom: Temporal headache\n",
      "Service Ticket (ST): ST-9553-5791248qmbq7nf6i-cas\n",
      "CUI: C0423621\n",
      "🩺 Related diseases: []\n",
      "\n",
      "Processing symptom: Chronic Headache\n",
      "Service Ticket (ST): ST-13533-24fr9b1zsgmbq7nhm1-cas\n",
      "CUI: C0151293\n",
      "🩺 Related diseases: []\n",
      "\n",
      "Processing symptom: Primary Thunderclap Headache\n",
      "Service Ticket (ST): ST-13538-24fr9b1zsgmbq7nk72-cas\n",
      "CUI: C0521668\n",
      "🩺 Related diseases: []\n",
      "\n",
      "Processing symptom: rebound headache without intractable headache\n",
      "Service Ticket (ST): ST-9558-5791248qmbq7nmls-cas\n",
      "CUI: C4027862\n",
      "🩺 Related diseases: []\n",
      "\n",
      "Processing symptom: Cluster Headache\n",
      "Service Ticket (ST): ST-13542-24fr9b1zsgmbq7np1c-cas\n",
      "CUI: C0009088\n",
      "🩺 Related diseases: []\n",
      "\n",
      "Processing symptom: Headache recurrent\n",
      "Service Ticket (ST): ST-6842-5791248pmbq7nrji-cas\n",
      "CUI: C0239888\n",
      "🩺 Related diseases: []\n",
      "\n",
      "Processing symptom: Hypnic Headache\n",
      "Service Ticket (ST): ST-13547-24fr9b1zsgmbq7ntve-cas\n",
      "CUI: C0752150\n",
      "🩺 Related diseases: []\n",
      "\n",
      "Processing symptom: Tension Headache\n",
      "Service Ticket (ST): ST-13549-24fr9b1zsgmbq7nwad-cas\n",
      "CUI: C0033893\n",
      "🩺 Related diseases: []\n",
      "\n",
      "Processing symptom: Cervicogenic Headache\n",
      "Service Ticket (ST): ST-6846-5791248pmbq7nys2-cas\n",
      "CUI: C0458101\n",
      "🩺 Related diseases: []\n",
      "\n",
      "Processing symptom: Sinus headache\n",
      "Service Ticket (ST): ST-13554-24fr9b1zsgmbq7o18q-cas\n",
      "CUI: C0037195\n",
      "🩺 Related diseases: []\n",
      "\n",
      "Processing symptom: Ocular Headache\n",
      "Service Ticket (ST): ST-9569-5791248qmbq7o48n-cas\n",
      "CUI: C0028838\n",
      "🩺 Related diseases: []\n",
      "\n",
      "Processing symptom: Post-Traumatic Headache\n",
      "Service Ticket (ST): ST-9571-5791248qmbq7o6tx-cas\n",
      "CUI: C0032816\n",
      "🩺 Related diseases: []\n",
      "\n",
      "Processing symptom: Headache fullness\n",
      "Service Ticket (ST): ST-13560-24fr9b1zsgmbq7o9fg-cas\n",
      "CUI: C0856864\n",
      "🩺 Related diseases: []\n",
      "\n",
      "Processing symptom: Primary Cough Headache\n",
      "Service Ticket (ST): ST-9576-5791248qmbq7oc4n-cas\n",
      "CUI: C0751185\n",
      "🩺 Related diseases: []\n",
      "\n",
      "Processing symptom: Headache\n",
      "Service Ticket (ST): ST-9577-5791248qmbq7oerf-cas\n",
      "CUI: C0018681\n",
      "🩺 Related diseases: []\n",
      "\n",
      " symptom_disease.csv created successfully.\n"
     ]
    }
   ],
   "source": [
    "tgt = get_tgt(API_KEY)\n",
    "st = get_st(tgt)\n",
    "\n",
    "all_symptoms = []\n",
    "for page in range(1, 4):  # You can increase pages if needed\n",
    "    print(f\"Fetching symptoms page {page}...\")\n",
    "    all_symptoms.extend(search_symptoms_from_umls(st, page))\n",
    "\n",
    "\n",
    "all_symptoms = list(set(all_symptoms))\n",
    "print(f\"Total unique symptoms fetched: {len(all_symptoms)}\")\n",
    "results = []\n",
    "\n",
    "for symptom_str in all_symptoms:\n",
    "    print(f\"\\nProcessing symptom: {symptom_str}\")\n",
    "    st = get_st(tgt)\n",
    "    print(f\"Service Ticket (ST): {st}\")\n",
    "    cui = search_umls(symptom_str, st)\n",
    "    print(f\"CUI: {cui}\")\n",
    "\n",
    "    if cui and cui != \"NONE\":\n",
    "        diseases = get_related_diseases(cui, st)\n",
    "        print(f\"🩺 Related diseases: {diseases}\")\n",
    "        results.append({\n",
    "            \"symptoms\": symptom_str,\n",
    "            \"diseases\": \"; \".join(diseases) if diseases else \"Not Found\"\n",
    "        })\n",
    "    else:\n",
    "        print(\"No valid CUI found.\")\n",
    "        results.append({\n",
    "            \"symptoms\": symptom_str,\n",
    "            \"diseases\": \"Not Found\"\n",
    "        })\n",
    "\n",
    "\n",
    "# STEP 4: Save results to CSV\n",
    "pd.DataFrame(results).to_csv(\"symptom_disease.csv\", index=False)\n",
    "\n",
    "print(\"\\n symptom_disease.csv created successfully.\")"
   ]
  },
  {
   "cell_type": "markdown",
   "id": "9865adce",
   "metadata": {},
   "source": []
  }
 ],
 "metadata": {
  "kernelspec": {
   "display_name": "Python 3",
   "language": "python",
   "name": "python3"
  },
  "language_info": {
   "codemirror_mode": {
    "name": "ipython",
    "version": 3
   },
   "file_extension": ".py",
   "mimetype": "text/x-python",
   "name": "python",
   "nbconvert_exporter": "python",
   "pygments_lexer": "ipython3",
   "version": "3.11.13"
  }
 },
 "nbformat": 4,
 "nbformat_minor": 5
}
