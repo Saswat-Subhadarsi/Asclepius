{
 "cells": [
  {
   "cell_type": "code",
   "execution_count": 1,
   "id": "b3ba46e8",
   "metadata": {},
   "outputs": [],
   "source": [
    "import requests\n",
    "from dotenv import load_dotenv\n",
    "import os\n",
    "load_dotenv()\n",
    "\n",
    "API_KEY = os.getenv(\"UMLS\")"
   ]
  },
  {
   "cell_type": "code",
   "execution_count": 3,
   "id": "a0187cf7",
   "metadata": {},
   "outputs": [],
   "source": [
    "def get_tgt(api_key):\n",
    "    url = \"https://utslogin.nlm.nih.gov/cas/v1/api-key\"\n",
    "    params = {'apikey': api_key}\n",
    "    response = requests.post(url, data=params)\n",
    "    tgt_url = response.headers['location']\n",
    "    return tgt_url"
   ]
  },
  {
   "cell_type": "code",
   "execution_count": 4,
   "id": "9137b729",
   "metadata": {},
   "outputs": [],
   "source": [
    "def get_st(tgt):\n",
    "    response = requests.post(tgt, data={'service': 'http://umlsks.nlm.nih.gov'})\n",
    "    return response.text\n"
   ]
  },
  {
   "cell_type": "code",
   "execution_count": 5,
   "id": "fa0339ae",
   "metadata": {},
   "outputs": [],
   "source": [
    "def search_umls(symptom, st):\n",
    "    base_url = \"https://uts-ws.nlm.nih.gov/rest/search/current\"\n",
    "    params = {\n",
    "        \"string\": symptom,\n",
    "        \"ticket\": st\n",
    "        }\n",
    "    response = requests.get(base_url, params=params)\n",
    "    data = response.json()\n",
    "    results = data['result']['results']\n",
    "    if results:\n",
    "        return results[0]['ui']  # The CUI\n",
    "    return None"
   ]
  },
  {
   "cell_type": "code",
   "execution_count": 6,
   "id": "96621cd5",
   "metadata": {},
   "outputs": [],
   "source": [
    "def get_related_diseases(cui, st):\n",
    "    url = f\"https://uts-ws.nlm.nih.gov/rest/content/current/CUI/{cui}/relations\"\n",
    "    params = {\"ticket\": st}\n",
    "    response = requests.get(url, params=params)\n",
    "    data = response.json()\n",
    "    diseases = []\n",
    "\n",
    "    for rel in data.get('result', []):\n",
    "        if \"may_be_diagnosed_by\" in rel.get(\"relationLabel\", \"\").lower() or \\\n",
    "           \"associated_with\" in rel.get(\"relationLabel\", \"\").lower():\n",
    "            diseases.append(rel['relatedIdName'])\n",
    "    return diseases"
   ]
  },
  {
   "cell_type": "code",
   "execution_count": 10,
   "id": "d4a8196e",
   "metadata": {},
   "outputs": [
    {
     "name": "stdout",
     "output_type": "stream",
     "text": [
      "Collecting numpy==1.26.4\n",
      "  Downloading numpy-1.26.4-cp312-cp312-win_amd64.whl.metadata (61 kB)\n",
      "Downloading numpy-1.26.4-cp312-cp312-win_amd64.whl (15.5 MB)\n",
      "   ---------------------------------------- 0.0/15.5 MB ? eta -:--:--\n",
      "    --------------------------------------- 0.3/15.5 MB ? eta -:--:--\n",
      "   - -------------------------------------- 0.5/15.5 MB 1.7 MB/s eta 0:00:09\n",
      "   -- ------------------------------------- 1.0/15.5 MB 1.9 MB/s eta 0:00:08\n",
      "   ---- ----------------------------------- 1.6/15.5 MB 2.2 MB/s eta 0:00:07\n",
      "   ------ --------------------------------- 2.4/15.5 MB 2.5 MB/s eta 0:00:06\n",
      "   -------- ------------------------------- 3.1/15.5 MB 2.7 MB/s eta 0:00:05\n",
      "   ---------- ----------------------------- 3.9/15.5 MB 2.9 MB/s eta 0:00:04\n",
      "   ------------ --------------------------- 5.0/15.5 MB 3.1 MB/s eta 0:00:04\n",
      "   -------------- ------------------------- 5.8/15.5 MB 3.2 MB/s eta 0:00:04\n",
      "   ----------------- ---------------------- 6.8/15.5 MB 3.4 MB/s eta 0:00:03\n",
      "   -------------------- ------------------- 7.9/15.5 MB 3.6 MB/s eta 0:00:03\n",
      "   ------------------------ --------------- 9.4/15.5 MB 3.9 MB/s eta 0:00:02\n",
      "   ---------------------------- ----------- 11.0/15.5 MB 4.2 MB/s eta 0:00:02\n",
      "   -------------------------------- ------- 12.6/15.5 MB 4.4 MB/s eta 0:00:01\n",
      "   ----------------------------------- ---- 13.6/15.5 MB 4.5 MB/s eta 0:00:01\n",
      "   -------------------------------------- - 14.9/15.5 MB 4.6 MB/s eta 0:00:01\n",
      "   ---------------------------------------- 15.5/15.5 MB 4.5 MB/s eta 0:00:00\n",
      "Installing collected packages: numpy\n",
      "  Attempting uninstall: numpy\n",
      "    Found existing installation: numpy 2.2.6\n",
      "    Uninstalling numpy-2.2.6:\n",
      "      Successfully uninstalled numpy-2.2.6\n",
      "Successfully installed numpy-1.26.4\n",
      "Note: you may need to restart the kernel to use updated packages.\n"
     ]
    },
    {
     "name": "stderr",
     "output_type": "stream",
     "text": [
      "  WARNING: Failed to remove contents in a temporary directory 'D:\\Anaconda\\Lib\\site-packages\\~umpy.libs'.\n",
      "  You can safely remove it manually.\n",
      "  WARNING: Failed to remove contents in a temporary directory 'D:\\Anaconda\\Lib\\site-packages\\~umpy'.\n",
      "  You can safely remove it manually.\n",
      "ERROR: pip's dependency resolver does not currently take into account all the packages that are installed. This behaviour is the source of the following dependency conflicts.\n",
      "gensim 4.3.3 requires scipy<1.14.0,>=1.7.0, but you have scipy 1.15.3 which is incompatible.\n",
      "streamlit 1.37.1 requires pillow<11,>=7.1.0, but you have pillow 11.2.1 which is incompatible.\n"
     ]
    }
   ],
   "source": [
    "%pip install numpy==1.26.4 --force-reinstall --no-cache-dir"
   ]
  },
  {
   "cell_type": "code",
   "execution_count": 1,
   "id": "b5734949",
   "metadata": {},
   "outputs": [
    {
     "name": "stdout",
     "output_type": "stream",
     "text": [
      "1.26.4\n"
     ]
    }
   ],
   "source": [
    "import numpy\n",
    "print(numpy.__version__)  "
   ]
  },
  {
   "cell_type": "code",
   "execution_count": 10,
   "id": "390be6bb",
   "metadata": {},
   "outputs": [
    {
     "name": "stdout",
     "output_type": "stream",
     "text": [
      "Found existing installation: pandas 2.3.0\n",
      "Uninstalling pandas-2.3.0:\n",
      "  Successfully uninstalled pandas-2.3.0\n",
      "Note: you may need to restart the kernel to use updated packages.\n"
     ]
    },
    {
     "name": "stderr",
     "output_type": "stream",
     "text": [
      "WARNING: Failed to remove contents in a temporary directory 'D:\\Anaconda\\Lib\\site-packages\\~andas.libs'.\n",
      "You can safely remove it manually.\n",
      "WARNING: Failed to remove contents in a temporary directory 'D:\\Anaconda\\Lib\\site-packages\\~andas'.\n",
      "You can safely remove it manually.\n"
     ]
    },
    {
     "name": "stdout",
     "output_type": "stream",
     "text": [
      "Collecting pandas\n",
      "  Using cached pandas-2.3.0-cp312-cp312-win_amd64.whl.metadata (19 kB)\n",
      "Requirement already satisfied: numpy>=1.26.0 in d:\\anaconda\\lib\\site-packages (from pandas) (1.26.4)\n",
      "Requirement already satisfied: python-dateutil>=2.8.2 in d:\\anaconda\\lib\\site-packages (from pandas) (2.9.0.post0)\n",
      "Requirement already satisfied: pytz>=2020.1 in d:\\anaconda\\lib\\site-packages (from pandas) (2024.1)\n",
      "Requirement already satisfied: tzdata>=2022.7 in d:\\anaconda\\lib\\site-packages (from pandas) (2023.3)\n",
      "Requirement already satisfied: six>=1.5 in d:\\anaconda\\lib\\site-packages (from python-dateutil>=2.8.2->pandas) (1.16.0)\n",
      "Using cached pandas-2.3.0-cp312-cp312-win_amd64.whl (11.0 MB)\n",
      "Installing collected packages: pandas\n",
      "Successfully installed pandas-2.3.0\n",
      "Note: you may need to restart the kernel to use updated packages.\n"
     ]
    },
    {
     "name": "stderr",
     "output_type": "stream",
     "text": [
      "ERROR: pip's dependency resolver does not currently take into account all the packages that are installed. This behaviour is the source of the following dependency conflicts.\n",
      "streamlit 1.37.1 requires pillow<11,>=7.1.0, but you have pillow 11.2.1 which is incompatible.\n"
     ]
    }
   ],
   "source": [
    "%pip uninstall pandas -y\n",
    "%pip install pandas"
   ]
  },
  {
   "cell_type": "code",
   "execution_count": 11,
   "id": "2879e20b",
   "metadata": {},
   "outputs": [
    {
     "ename": "AttributeError",
     "evalue": "partially initialized module 'pandas' has no attribute 'core' (most likely due to a circular import)",
     "output_type": "error",
     "traceback": [
      "\u001b[1;31m---------------------------------------------------------------------------\u001b[0m",
      "\u001b[1;31mAttributeError\u001b[0m                            Traceback (most recent call last)",
      "Cell \u001b[1;32mIn[11], line 1\u001b[0m\n\u001b[1;32m----> 1\u001b[0m \u001b[38;5;28;01mimport\u001b[39;00m \u001b[38;5;21;01mpandas\u001b[39;00m \u001b[38;5;28;01mas\u001b[39;00m \u001b[38;5;21;01mpd\u001b[39;00m\n\u001b[0;32m      2\u001b[0m df \u001b[38;5;241m=\u001b[39m pd\u001b[38;5;241m.\u001b[39mread_csv(\u001b[38;5;124mr\u001b[39m\u001b[38;5;124m\"\u001b[39m\u001b[38;5;124mC:\u001b[39m\u001b[38;5;124m\\\u001b[39m\u001b[38;5;124mUsers\u001b[39m\u001b[38;5;124m\\\u001b[39m\u001b[38;5;124mSaswat Subhadarsi\u001b[39m\u001b[38;5;124m\\\u001b[39m\u001b[38;5;124mDesktop\u001b[39m\u001b[38;5;124m\\\u001b[39m\u001b[38;5;124mProject\u001b[39m\u001b[38;5;124m\\\u001b[39m\u001b[38;5;124mAsclepius\u001b[39m\u001b[38;5;124m\\\u001b[39m\u001b[38;5;124mData\u001b[39m\u001b[38;5;124m\\\u001b[39m\u001b[38;5;124mMedical-data.csv\u001b[39m\u001b[38;5;124m\"\u001b[39m)\n\u001b[0;32m      4\u001b[0m tgt \u001b[38;5;241m=\u001b[39m get_tgt(API_KEY)  \n",
      "File \u001b[1;32md:\\Anaconda\\Lib\\site-packages\\pandas\\__init__.py:151\u001b[0m\n\u001b[0;32m    133\u001b[0m \u001b[38;5;28;01mfrom\u001b[39;00m \u001b[38;5;21;01mpandas\u001b[39;00m\u001b[38;5;21;01m.\u001b[39;00m\u001b[38;5;21;01mcore\u001b[39;00m\u001b[38;5;21;01m.\u001b[39;00m\u001b[38;5;21;01mreshape\u001b[39;00m\u001b[38;5;21;01m.\u001b[39;00m\u001b[38;5;21;01mapi\u001b[39;00m \u001b[38;5;28;01mimport\u001b[39;00m (\n\u001b[0;32m    134\u001b[0m     concat,\n\u001b[0;32m    135\u001b[0m     lreshape,\n\u001b[1;32m   (...)\u001b[0m\n\u001b[0;32m    147\u001b[0m     qcut,\n\u001b[0;32m    148\u001b[0m )\n\u001b[0;32m    150\u001b[0m \u001b[38;5;28;01mfrom\u001b[39;00m \u001b[38;5;21;01mpandas\u001b[39;00m \u001b[38;5;28;01mimport\u001b[39;00m api, arrays, errors, io, plotting, tseries\n\u001b[1;32m--> 151\u001b[0m \u001b[38;5;28;01mfrom\u001b[39;00m \u001b[38;5;21;01mpandas\u001b[39;00m \u001b[38;5;28;01mimport\u001b[39;00m testing\n\u001b[0;32m    152\u001b[0m \u001b[38;5;28;01mfrom\u001b[39;00m \u001b[38;5;21;01mpandas\u001b[39;00m\u001b[38;5;21;01m.\u001b[39;00m\u001b[38;5;21;01mutil\u001b[39;00m\u001b[38;5;21;01m.\u001b[39;00m\u001b[38;5;21;01m_print_versions\u001b[39;00m \u001b[38;5;28;01mimport\u001b[39;00m show_versions\n\u001b[0;32m    154\u001b[0m \u001b[38;5;28;01mfrom\u001b[39;00m \u001b[38;5;21;01mpandas\u001b[39;00m\u001b[38;5;21;01m.\u001b[39;00m\u001b[38;5;21;01mio\u001b[39;00m\u001b[38;5;21;01m.\u001b[39;00m\u001b[38;5;21;01mapi\u001b[39;00m \u001b[38;5;28;01mimport\u001b[39;00m (\n\u001b[0;32m    155\u001b[0m     \u001b[38;5;66;03m# excel\u001b[39;00m\n\u001b[0;32m    156\u001b[0m     ExcelFile,\n\u001b[1;32m   (...)\u001b[0m\n\u001b[0;32m    184\u001b[0m     read_spss,\n\u001b[0;32m    185\u001b[0m )\n",
      "File \u001b[1;32md:\\Anaconda\\Lib\\site-packages\\pandas\\testing.py:6\u001b[0m\n\u001b[0;32m      1\u001b[0m \u001b[38;5;124;03m\"\"\"\u001b[39;00m\n\u001b[0;32m      2\u001b[0m \u001b[38;5;124;03mPublic testing utility functions.\u001b[39;00m\n\u001b[0;32m      3\u001b[0m \u001b[38;5;124;03m\"\"\"\u001b[39;00m\n\u001b[1;32m----> 6\u001b[0m \u001b[38;5;28;01mfrom\u001b[39;00m \u001b[38;5;21;01mpandas\u001b[39;00m\u001b[38;5;21;01m.\u001b[39;00m\u001b[38;5;21;01m_testing\u001b[39;00m \u001b[38;5;28;01mimport\u001b[39;00m (\n\u001b[0;32m      7\u001b[0m     assert_extension_array_equal,\n\u001b[0;32m      8\u001b[0m     assert_frame_equal,\n\u001b[0;32m      9\u001b[0m     assert_index_equal,\n\u001b[0;32m     10\u001b[0m     assert_series_equal,\n\u001b[0;32m     11\u001b[0m )\n\u001b[0;32m     13\u001b[0m __all__ \u001b[38;5;241m=\u001b[39m [\n\u001b[0;32m     14\u001b[0m     \u001b[38;5;124m\"\u001b[39m\u001b[38;5;124massert_extension_array_equal\u001b[39m\u001b[38;5;124m\"\u001b[39m,\n\u001b[0;32m     15\u001b[0m     \u001b[38;5;124m\"\u001b[39m\u001b[38;5;124massert_frame_equal\u001b[39m\u001b[38;5;124m\"\u001b[39m,\n\u001b[0;32m     16\u001b[0m     \u001b[38;5;124m\"\u001b[39m\u001b[38;5;124massert_series_equal\u001b[39m\u001b[38;5;124m\"\u001b[39m,\n\u001b[0;32m     17\u001b[0m     \u001b[38;5;124m\"\u001b[39m\u001b[38;5;124massert_index_equal\u001b[39m\u001b[38;5;124m\"\u001b[39m,\n\u001b[0;32m     18\u001b[0m ]\n",
      "File \u001b[1;32md:\\Anaconda\\Lib\\site-packages\\pandas\\_testing\\__init__.py:405\u001b[0m\n\u001b[0;32m    400\u001b[0m     \u001b[38;5;28;01mimport\u001b[39;00m \u001b[38;5;21;01mpytest\u001b[39;00m\n\u001b[0;32m    402\u001b[0m     \u001b[38;5;28;01mreturn\u001b[39;00m pytest\u001b[38;5;241m.\u001b[39mraises(expected_exception, match\u001b[38;5;241m=\u001b[39m\u001b[38;5;28;01mNone\u001b[39;00m)\n\u001b[1;32m--> 405\u001b[0m cython_table \u001b[38;5;241m=\u001b[39m pd\u001b[38;5;241m.\u001b[39mcore\u001b[38;5;241m.\u001b[39mcommon\u001b[38;5;241m.\u001b[39m_cython_table\u001b[38;5;241m.\u001b[39mitems()\n\u001b[0;32m    408\u001b[0m \u001b[38;5;28;01mdef\u001b[39;00m \u001b[38;5;21mget_cython_table_params\u001b[39m(ndframe, func_names_and_expected):\n\u001b[0;32m    409\u001b[0m \u001b[38;5;250m    \u001b[39m\u001b[38;5;124;03m\"\"\"\u001b[39;00m\n\u001b[0;32m    410\u001b[0m \u001b[38;5;124;03m    Combine frame, functions from com._cython_table\u001b[39;00m\n\u001b[0;32m    411\u001b[0m \u001b[38;5;124;03m    keys and expected result.\u001b[39;00m\n\u001b[1;32m   (...)\u001b[0m\n\u001b[0;32m    423\u001b[0m \u001b[38;5;124;03m        List of three items (DataFrame, function, expected result)\u001b[39;00m\n\u001b[0;32m    424\u001b[0m \u001b[38;5;124;03m    \"\"\"\u001b[39;00m\n",
      "\u001b[1;31mAttributeError\u001b[0m: partially initialized module 'pandas' has no attribute 'core' (most likely due to a circular import)"
     ]
    }
   ],
   "source": [
    "import pandas as pd\n",
    "df = pd.read_csv(r\"C:\\Users\\Saswat Subhadarsi\\Desktop\\Project\\Asclepius\\Data\\Medical-data.csv\")\n",
    "\n",
    "tgt = get_tgt(API_KEY)  \n",
    "results = []\n",
    "\n",
    "for symptom_str in df[\"symptoms\"]:\n",
    "    st = get_st(tgt)  \n",
    "    cui = search_umls(symptom_str, st)  \n",
    "    if cui and cui != \"NONE\":\n",
    "        diseases = get_related_diseases(cui, st) #CUI\n",
    "        results.append({\n",
    "            \"symptoms\": symptom_str,\n",
    "            \"diseases\": \"; \".join(diseases) if diseases else \"Not Found\"\n",
    "        })\n",
    "    else:\n",
    "        results.append({\n",
    "            \"symptoms\": symptom_str,\n",
    "            \"diseases\": \"Not Found\"\n",
    "        })\n",
    "\n",
    "# Save all results to CSV\n",
    "pd.DataFrame(results).to_csv(\"symptom_disease.csv\", index=False)\n"
   ]
  },
  {
   "cell_type": "markdown",
   "id": "9865adce",
   "metadata": {},
   "source": []
  }
 ],
 "metadata": {
  "kernelspec": {
   "display_name": "base",
   "language": "python",
   "name": "python3"
  },
  "language_info": {
   "codemirror_mode": {
    "name": "ipython",
    "version": 3
   },
   "file_extension": ".py",
   "mimetype": "text/x-python",
   "name": "python",
   "nbconvert_exporter": "python",
   "pygments_lexer": "ipython3",
   "version": "3.12.7"
  }
 },
 "nbformat": 4,
 "nbformat_minor": 5
}
